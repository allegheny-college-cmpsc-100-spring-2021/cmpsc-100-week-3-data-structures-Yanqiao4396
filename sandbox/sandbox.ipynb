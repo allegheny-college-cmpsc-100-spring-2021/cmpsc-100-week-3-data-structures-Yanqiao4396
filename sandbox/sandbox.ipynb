{
 "cells": [
  {
   "cell_type": "markdown",
   "metadata": {
    "deletable": false,
    "editable": false
   },
   "source": [
    "# CMPSC 100: `Week 03` Sandbox\n",
    "\n",
    "---\n",
    "\n",
    "In the computer science world, a \"sandbox\" is almost exactly what it is in the real world: a place to, effectively, \"play.\" \n",
    "\n",
    "## Usage\n",
    "\n",
    "First and foremost, this space is for *you*. \n",
    "\n",
    "Use this notebook to try out code presented in class or do self-guided exploration. Your instructor may reference this notebook and ask that you write some code in it to follow along with in-class exercises or live programming.\n",
    "\n",
    "I also encourage you to use this as a space to take notes as you participate in discussions or practice coding concepts on your own.\n",
    "\n",
    "### Reminders\n",
    "\n",
    "The following key combinations and shortcuts will speed your work in this notebook.\n",
    "\n",
    "#### With cursor in cell\n",
    "\n",
    "| Key(s) | Outcome |\n",
    "|:-|:-|\n",
    "| `Enter` | Adds a new line in the current cell |\n",
    "| `Shift` + `Enter` | Runs the current cell and moves to the first cell below |\n",
    "| `Ctrl` + `Enter` | Runs the current cell; cursor remains in cell |\n",
    "| `Alt` + `Enter` | Runs current cell and inserts new cell below ||\n",
    "\n",
    "#### With cell selected\n",
    "\n",
    "| Key(s) | Outcome |\n",
    "|:-|:-|\n",
    "| `A` | Add cell above current cell |\n",
    "| `B` | Add cell below current cell |\n",
    "| `D` | Delete current cell |\n",
    "| `Shift` + `M` | Merge current cell with below |\n",
    "| `M` | Changes current cell to Markdown format|\n",
    "| `Y` | Changes current cell to code format |\n",
    "\n",
    "\n",
    "## Helpful readings\n",
    "\n",
    "The readings below are meant to serve as references for you as you explore practical use of our course's platforms. As always, however, feel free to reach out to your instructors or post questions in our course [Slack](cmpsc-100-00-fa-2020.slack.com).\n",
    "\n",
    "### Using Jupyter notebooks\n",
    "\n",
    "For questions about using a Jupyter Notebook, our colleagues at Bryn Mawr created a [Jupyter Notebook User's Manual](https://jupyter.brynmawr.edu/services/public/dblank/Jupyter%20Notebook%20Users%20Manual.ipynb) which answers basic and advanced questions about the platform.\n",
    "\n",
    "### Markdown\n",
    "\n",
    "I strongly recommend reading the [Mastering Markdown](https://guides.github.com/features/mastering-markdown/) guide to serve as a Markdown reference."
   ]
  },
  {
   "cell_type": "markdown",
   "metadata": {},
   "source": [
    "## Sandbox"
   ]
  },
  {
   "cell_type": "code",
   "execution_count": 3,
   "metadata": {},
   "outputs": [
    {
     "name": "stdin",
     "output_type": "stream",
     "text": [
      "label:  1\n"
     ]
    },
    {
     "name": "stdout",
     "output_type": "stream",
     "text": [
      "Packing box: 1\n"
     ]
    },
    {
     "name": "stdin",
     "output_type": "stream",
     "text": [
      "add item: A\n"
     ]
    },
    {
     "name": "stdout",
     "output_type": "stream",
     "text": [
      "A added to the box.\n"
     ]
    },
    {
     "name": "stdin",
     "output_type": "stream",
     "text": [
      "What to add something more? [Y]/[N]: Y\n",
      "add item: B\n"
     ]
    },
    {
     "name": "stdout",
     "output_type": "stream",
     "text": [
      "B added to the box.\n"
     ]
    },
    {
     "name": "stdin",
     "output_type": "stream",
     "text": [
      "What to add something more? [Y]/[N]: N\n"
     ]
    },
    {
     "name": "stdout",
     "output_type": "stream",
     "text": [
      "['A', 'B']\n",
      "A\n",
      "B\n",
      "Unpacking box: 1\n",
      "B removed from the box\n",
      "A removed from the box\n",
      "The box is now empty!\n"
     ]
    }
   ],
   "source": [
    "box =[]\n",
    "choice = \"\"\n",
    "label = None\n",
    "\n",
    "# TODO: Create label for box from user input, use \n",
    "#       identifier/variable name \"label\"\n",
    "label = input(\"label: \")\n",
    "print(f\"Packing box: {label}\")\n",
    "\n",
    "while choice != \"N\":\n",
    "    item = input(\"add item:\")\n",
    "    \n",
    "\n",
    "#       - Create input for items to add to box\n",
    "#       - Add item to list \"box\"\n",
    "    print(f\"{item} added to the box.\")\n",
    "    box.append(item)\n",
    "    choice = input(\"What to add something more? [Y]/[N]:\")\n",
    "print(box)\n",
    "# TODO: Create input to request if user wants to enter\n",
    "#       another item for the box\n",
    "\n",
    "# TODO: Print box item-by-item using a for loop\n",
    "for item in box:\n",
    "    print(item)\n",
    "print(f\"Unpacking box: {label}\")\n",
    "\n",
    "while len(box) > 0:\n",
    "    \n",
    "# TODO: While the count of items in box is greater than 0,\n",
    "#       - Store the last item added to the box as \"item\"\n",
    "    item = box[len(box)-1]\n",
    "    print(f\"{item} removed from the box\")\n",
    "# TODO: Remove item from the \"box\"\n",
    "    box.remove(item)\n",
    "print(\"The box is now empty!\")\n"
   ]
  },
  {
   "cell_type": "code",
   "execution_count": null,
   "metadata": {},
   "outputs": [],
   "source": []
  }
 ],
 "metadata": {
  "celltoolbar": "Raw Cell Format",
  "kernelspec": {
   "display_name": "Python 3",
   "language": "python",
   "name": "python3"
  },
  "language_info": {
   "codemirror_mode": {
    "name": "ipython",
    "version": 3
   },
   "file_extension": ".py",
   "mimetype": "text/x-python",
   "name": "python",
   "nbconvert_exporter": "python",
   "pygments_lexer": "ipython3",
   "version": "3.8.5"
  }
 },
 "nbformat": 4,
 "nbformat_minor": 4
}
